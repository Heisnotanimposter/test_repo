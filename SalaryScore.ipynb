{
  "nbformat": 4,
  "nbformat_minor": 0,
  "metadata": {
    "colab": {
      "provenance": [],
      "authorship_tag": "ABX9TyP4FWIEuSet6kQzsJvKPBDe",
      "include_colab_link": true
    },
    "kernelspec": {
      "name": "python3",
      "display_name": "Python 3"
    },
    "language_info": {
      "name": "python"
    }
  },
  "cells": [
    {
      "cell_type": "markdown",
      "metadata": {
        "id": "view-in-github",
        "colab_type": "text"
      },
      "source": [
        "<a href=\"https://colab.research.google.com/github/Heisnotanimposter/test_repo/blob/main/SalaryScore.ipynb\" target=\"_parent\"><img src=\"https://colab.research.google.com/assets/colab-badge.svg\" alt=\"Open In Colab\"/></a>"
      ]
    },
    {
      "cell_type": "code",
      "execution_count": null,
      "metadata": {
        "id": "hlZFEgzdmOqz"
      },
      "outputs": [],
      "source": [
        "import pandas as pd\n",
        "import numpy as np\n",
        "\n",
        "# Sample data\n",
        "data = {\n",
        "    \"기업명\": [\"알테어엔지니어링\", \"한국원자력협력재단\", \"르네사스일렉트로닉스한국\", \"네이버클라우드\", \"Psomagen Inc.\", \"한국보육진흥원\", \"PTKOREA\", \"동아미디어그룹\", \"주식회사 클라썸\", \"한국연구재단\", \"사피온코리아\", \"한국산업기술시험원\", \"웅진\", \"LG생활건강\", \"나우코딩랩스\", \"Deloitte 안진회계법인\", \"캐롯손해보험\", \"리딩투자증권\", \"대한건설기계안전관리원\"],\n",
        "    \"근무지역\": [\"경기\", \"해외\", \"서울-강남구\", \"서울-강남구\", \"해외\", \"서울\", \"서울-강남구\", \"서울-종로구\", \"서울-강남구\", \"서울\", \"경기-분당구\", \"서울\", \"서울\", \"서울-강서구\", \"서울-중구\", \"서울-영등포구\", \"서울\", \"서울-영등포구\", \"서울\"],\n",
        "    \"채용형태\": [\"인턴\", \"인턴\", \"인턴\", \"인턴\", \"인턴\", \"계약, 인턴\", \"인턴\", \"인턴\", \"인턴\", \"인턴\", \"인턴\", \"인턴\", \"인턴\", \"인턴\", \"인턴\", \"인턴\", \"인턴\", \"인턴\", \"인턴\"]\n",
        "}\n",
        "\n",
        "# Convert data to DataFrame\n",
        "df = pd.DataFrame(data)\n",
        "\n",
        "# Define scores\n",
        "location_scores = {\"서울\": 10, \"경기\": 5, \"해외\": 2}\n",
        "salary_scores = {\"인턴\": 5, \"계약, 인턴\": 7}\n",
        "\n",
        "# Generate random reputation scores for demonstration\n",
        "np.random.seed(42) # For reproducibility\n",
        "df[\"Reputation Score\"] = np.random.randint(1, 6, df.shape[0])\n",
        "\n",
        "# Calculate scores\n",
        "df[\"Location Score\"] = df[\"근무지역\"].apply(lambda x: location_scores.get(x.split(\"-\")[0], 0))\n",
        "df[\"Salary Score\"] = df[\"채용형태\"].apply(lambda x: salary_scores.get(x, 0))\n",
        "df[\"Final Score\"] = (df[\"Location Score\"] + df[\"Salary Score\"]) * df[\"Reputation Score\"]\n",
        "\n",
        "df[[\"기업명\", \"근무지역\", \"채용형태\", \"Reputation Score\", \"Final Score\"]]\n"
      ]
    }
  ]
}