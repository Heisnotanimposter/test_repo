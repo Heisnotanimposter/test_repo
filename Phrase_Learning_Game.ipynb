{
  "nbformat": 4,
  "nbformat_minor": 0,
  "metadata": {
    "colab": {
      "provenance": [],
      "authorship_tag": "ABX9TyMNiDJ27W7hNaG0HeBOGV7f",
      "include_colab_link": true
    },
    "kernelspec": {
      "name": "python3",
      "display_name": "Python 3"
    },
    "language_info": {
      "name": "python"
    }
  },
  "cells": [
    {
      "cell_type": "markdown",
      "metadata": {
        "id": "view-in-github",
        "colab_type": "text"
      },
      "source": [
        "<a href=\"https://colab.research.google.com/github/Heisnotanimposter/test_repo/blob/main/Phrase_Learning_Game.ipynb\" target=\"_parent\"><img src=\"https://colab.research.google.com/assets/colab-badge.svg\" alt=\"Open In Colab\"/></a>"
      ]
    },
    {
      "cell_type": "code",
      "execution_count": 1,
      "metadata": {
        "id": "7OQcL78nxKrV",
        "outputId": "583e711c-2bae-4d13-96a4-5e5a831ca741",
        "colab": {
          "base_uri": "https://localhost:8080/",
          "height": 284
        }
      },
      "outputs": [
        {
          "output_type": "stream",
          "name": "stdout",
          "text": [
            "pygame 2.3.0 (SDL 2.24.2, Python 3.10.12)\n",
            "Hello from the pygame community. https://www.pygame.org/contribute.html\n"
          ]
        },
        {
          "output_type": "error",
          "ename": "error",
          "evalue": "ignored",
          "traceback": [
            "\u001b[0;31m---------------------------------------------------------------------------\u001b[0m",
            "\u001b[0;31merror\u001b[0m                                     Traceback (most recent call last)",
            "\u001b[0;32m<ipython-input-1-fdbb591bb4a8>\u001b[0m in \u001b[0;36m<cell line: 10>\u001b[0;34m()\u001b[0m\n\u001b[1;32m      8\u001b[0m \u001b[0mWIDTH\u001b[0m \u001b[0;34m=\u001b[0m \u001b[0;36m800\u001b[0m\u001b[0;34m\u001b[0m\u001b[0;34m\u001b[0m\u001b[0m\n\u001b[1;32m      9\u001b[0m \u001b[0mHEIGHT\u001b[0m \u001b[0;34m=\u001b[0m \u001b[0;36m600\u001b[0m\u001b[0;34m\u001b[0m\u001b[0;34m\u001b[0m\u001b[0m\n\u001b[0;32m---> 10\u001b[0;31m \u001b[0mwin\u001b[0m \u001b[0;34m=\u001b[0m \u001b[0mpygame\u001b[0m\u001b[0;34m.\u001b[0m\u001b[0mdisplay\u001b[0m\u001b[0;34m.\u001b[0m\u001b[0mset_mode\u001b[0m\u001b[0;34m(\u001b[0m\u001b[0;34m(\u001b[0m\u001b[0mWIDTH\u001b[0m\u001b[0;34m,\u001b[0m \u001b[0mHEIGHT\u001b[0m\u001b[0;34m)\u001b[0m\u001b[0;34m)\u001b[0m\u001b[0;34m\u001b[0m\u001b[0;34m\u001b[0m\u001b[0m\n\u001b[0m\u001b[1;32m     11\u001b[0m \u001b[0mpygame\u001b[0m\u001b[0;34m.\u001b[0m\u001b[0mdisplay\u001b[0m\u001b[0;34m.\u001b[0m\u001b[0mset_caption\u001b[0m\u001b[0;34m(\u001b[0m\u001b[0;34m\"English Phrase Learning\"\u001b[0m\u001b[0;34m)\u001b[0m\u001b[0;34m\u001b[0m\u001b[0;34m\u001b[0m\u001b[0m\n\u001b[1;32m     12\u001b[0m \u001b[0;34m\u001b[0m\u001b[0m\n",
            "\u001b[0;31merror\u001b[0m: No available video device"
          ]
        }
      ],
      "source": [
        "import pygame\n",
        "import random\n",
        "\n",
        "# Initialize pygame\n",
        "pygame.init()\n",
        "\n",
        "# Set up the display\n",
        "WIDTH = 800\n",
        "HEIGHT = 600\n",
        "win = pygame.display.set_mode((WIDTH, HEIGHT))\n",
        "pygame.display.set_caption(\"English Phrase Learning\")\n",
        "\n",
        "# Define colors\n",
        "WHITE = (255, 255, 255)\n",
        "BLACK = (0, 0, 0)\n",
        "\n",
        "# Define phrases\n",
        "phrases = [\n",
        "    \"Hello, how are you?\",\n",
        "    \"What is your name?\",\n",
        "    \"Where are you from?\",\n",
        "    \"I love programming!\",\n",
        "    \"How old are you?\"\n",
        "]\n",
        "\n",
        "# Initialize variables\n",
        "current_phrase = random.choice(phrases)\n",
        "font = pygame.font.Font(None, 36)\n",
        "input_text = \"\"\n",
        "is_inputting = True\n",
        "\n",
        "# Game loop\n",
        "running = True\n",
        "while running:\n",
        "    win.fill(WHITE)\n",
        "\n",
        "    # Display current phrase\n",
        "    phrase_text = font.render(current_phrase, True, BLACK)\n",
        "    phrase_rect = phrase_text.get_rect(center=(WIDTH // 2, HEIGHT // 2 - 50))\n",
        "    win.blit(phrase_text, phrase_rect)\n",
        "\n",
        "    # Display input text\n",
        "    input_text_surface = font.render(input_text, True, BLACK)\n",
        "    input_rect = input_text_surface.get_rect(midtop=(WIDTH // 2, HEIGHT // 2 + 50))\n",
        "    pygame.draw.rect(win, BLACK, input_rect, 2)\n",
        "    win.blit(input_text_surface, input_rect)\n",
        "\n",
        "    # Event handling\n",
        "    for event in pygame.event.get():\n",
        "        if event.type == pygame.QUIT:\n",
        "            running = False\n",
        "        elif event.type == pygame.KEYDOWN:\n",
        "            if is_inputting:\n",
        "                if event.key == pygame.K_RETURN:\n",
        "                    # Check if the input matches the current phrase\n",
        "                    if input_text.lower() == current_phrase.lower():\n",
        "                        # Correct input\n",
        "                        current_phrase = random.choice(phrases)\n",
        "                        input_text = \"\"\n",
        "                    else:\n",
        "                        # Incorrect input\n",
        "                        input_text = \"\"\n",
        "                elif event.key == pygame.K_BACKSPACE:\n",
        "                    input_text = input_text[:-1]\n",
        "                else:\n",
        "                    input_text += event.unicode\n",
        "\n",
        "    pygame.display.update()\n",
        "\n",
        "# Quit the game\n",
        "pygame.quit()\n"
      ]
    },
    {
      "cell_type": "code",
      "source": [],
      "metadata": {
        "id": "tMCzs3nExOZa"
      },
      "execution_count": null,
      "outputs": []
    }
  ]
}