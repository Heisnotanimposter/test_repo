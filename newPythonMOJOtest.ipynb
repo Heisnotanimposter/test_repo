{
  "nbformat": 4,
  "nbformat_minor": 0,
  "metadata": {
    "colab": {
      "provenance": [],
      "authorship_tag": "ABX9TyMd8tn1+9mQO0Sj/JJjwSzy",
      "include_colab_link": true
    },
    "kernelspec": {
      "name": "python3",
      "display_name": "Python 3"
    },
    "language_info": {
      "name": "python"
    }
  },
  "cells": [
    {
      "cell_type": "markdown",
      "metadata": {
        "id": "view-in-github",
        "colab_type": "text"
      },
      "source": [
        "<a href=\"https://colab.research.google.com/github/Heisnotanimposter/test_repo/blob/main/newPythonMOJOtest.ipynb\" target=\"_parent\"><img src=\"https://colab.research.google.com/assets/colab-badge.svg\" alt=\"Open In Colab\"/></a>"
      ]
    },
    {
      "cell_type": "code",
      "execution_count": null,
      "metadata": {
        "id": "MCQNhEc-j79N"
      },
      "outputs": [],
      "source": [
        "import h2o\n",
        "from h2o.estimators.deeplearning import H2ODeepLearningEstimator\n",
        "\n",
        "h2o.init()\n",
        "\n",
        "# Import a sample binary outcome train/test set into H2O\n",
        "train = h2o.import_file(\"https://s3.amazonaws.com/h2o-public-test-data/bigdata/laptop/mnist/train.csv.gz\")\n",
        "test = h2o.import_file(\"https://s3.amazonaws.com/h2o-public-test-data/bigdata/laptop/mnist/test.csv.gz\")\n",
        "\n",
        "# Identify predictors and response\n",
        "x = train.columns[:-1]\n",
        "y = \"C785\"\n",
        "\n",
        "# For binary classification, response should be a factor\n",
        "train[y] = train[y].asfactor()\n",
        "test[y] = test[y].asfactor()\n",
        "\n",
        "# Number of CV folds (to generate level-one data for stacking)\n",
        "nfolds = 5\n",
        "\n",
        "# Deep Learning with Cross-Validation and Stacked Ensembles\n",
        "model = H2ODeepLearningEstimator(\n",
        "    distribution=\"multinomial\",\n",
        "    activation=\"RectifierWithDropout\",\n",
        "    hidden=[32,32,32],\n",
        "    input_dropout_ratio=0.2,\n",
        "    sparse=True,\n",
        "    l1=1e-5,\n",
        "    epochs=10,\n",
        "    nfolds=nfolds,\n",
        "    fold_assignment=\"Modulo\",\n",
        "    keep_cross_validation_predictions=True,\n",
        "    seed=1)\n",
        "\n",
        "model.train(x=x, y=y, training_frame=train)\n",
        "\n",
        "# Eval performance on the test set\n",
        "perf = model.model_performance(test)\n",
        "\n",
        "print(perf)"
      ]
    }
  ]
}